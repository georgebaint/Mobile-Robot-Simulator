{
 "cells": [
  {
   "cell_type": "code",
   "execution_count": 1,
   "id": "27f3290a-e99b-416c-99c2-a2ecfb369d91",
   "metadata": {},
   "outputs": [
    {
     "name": "stdout",
     "output_type": "stream",
     "text": [
      "pygame 2.5.2 (SDL 2.28.3, Python 3.12.2)\n",
      "Hello from the pygame community. https://www.pygame.org/contribute.html\n"
     ]
    }
   ],
   "source": [
    "import pygame\n",
    "import cv2 as cv"
   ]
  },
  {
   "cell_type": "code",
   "execution_count": 3,
   "id": "7159df5d-03f7-49ba-8449-b06bf1f017a2",
   "metadata": {},
   "outputs": [],
   "source": [
    "pygame.init()\n",
    "WIDTH = 1280\n",
    "HEIGHT = 720\n",
    "screen = pygame.display.set_mode((WIDTH, HEIGHT))"
   ]
  },
  {
   "cell_type": "code",
   "execution_count": 4,
   "id": "efbc077f-42d2-47e6-bf42-981c472f6824",
   "metadata": {},
   "outputs": [],
   "source": [
    "background = pygame.image.load(\"images/background.jpg\").convert()"
   ]
  },
  {
   "cell_type": "code",
   "execution_count": 6,
   "id": "b50ee07b-0359-4a61-b739-d4123e94e724",
   "metadata": {},
   "outputs": [
    {
     "data": {
      "text/plain": [
       "<Surface(2000x1500x32 SW)>"
      ]
     },
     "execution_count": 6,
     "metadata": {},
     "output_type": "execute_result"
    }
   ],
   "source": [
    "background"
   ]
  },
  {
   "cell_type": "code",
   "execution_count": 10,
   "id": "36705245-af43-4e24-8f39-28b3069a8140",
   "metadata": {},
   "outputs": [],
   "source": [
    "image = cv.imread('images/maze.png')\n",
    "_, binary_image = cv.threshold(image, 127, 255, cv.THRESH_BINARY)\n",
    "# Convert binary image to match the display dimensions\n",
    "binary_image = cv.resize(binary_image, (WIDTH, HEIGHT))"
   ]
  },
  {
   "cell_type": "code",
   "execution_count": 11,
   "id": "045817e7-7210-4ebd-8a59-f0bf32f0920f",
   "metadata": {},
   "outputs": [
    {
     "data": {
      "text/plain": [
       "(720, 1280, 3)"
      ]
     },
     "execution_count": 11,
     "metadata": {},
     "output_type": "execute_result"
    }
   ],
   "source": [
    "binary_image.shape"
   ]
  },
  {
   "cell_type": "code",
   "execution_count": null,
   "id": "fea8eb49-4465-4eaa-a196-48c5cd585864",
   "metadata": {},
   "outputs": [],
   "source": []
  }
 ],
 "metadata": {
  "kernelspec": {
   "display_name": "Python 3 (ipykernel)",
   "language": "python",
   "name": "python3"
  },
  "language_info": {
   "codemirror_mode": {
    "name": "ipython",
    "version": 3
   },
   "file_extension": ".py",
   "mimetype": "text/x-python",
   "name": "python",
   "nbconvert_exporter": "python",
   "pygments_lexer": "ipython3",
   "version": "3.12.2"
  }
 },
 "nbformat": 4,
 "nbformat_minor": 5
}
